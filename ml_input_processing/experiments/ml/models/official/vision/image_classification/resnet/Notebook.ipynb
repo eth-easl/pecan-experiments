{
 "cells": [
  {
   "cell_type": "code",
   "execution_count": 1,
   "id": "a9336a0d",
   "metadata": {},
   "outputs": [
    {
     "data": {
      "text/plain": [
       "'2.7.0'"
      ]
     },
     "execution_count": 1,
     "metadata": {},
     "output_type": "execute_result"
    }
   ],
   "source": [
    "import tensorflow as tf\n",
    "import numpy as np\n",
    "import matplotlib.pyplot as plt\n",
    "import math\n",
    "from imagenet_preprocessing import input_fn, _NUM_TRAIN_FILES, NUM_IMAGES\n",
    "import random\n",
    "import os\n",
    "import glob\n",
    "import re\n",
    "\n",
    "%load_ext autoreload\n",
    "%autoreload 2\n",
    "\n",
    "tf.__version__"
   ]
  },
  {
   "cell_type": "markdown",
   "id": "c42fd887",
   "metadata": {},
   "source": [
    "## ImageNet Input data"
   ]
  },
  {
   "cell_type": "code",
   "execution_count": 2,
   "id": "0ed53248",
   "metadata": {},
   "outputs": [
    {
     "name": "stdout",
     "output_type": "stream",
     "text": [
      "rm: cannot remove '/training-data/cache_temp/snapshot*': No such file or directory\n"
     ]
    }
   ],
   "source": [
    "!rm -r /training-data/cache_temp/snapshot*\n",
    "data_dir = \"/training-data/imagenet2012/tfrecords\"; nb_train_imgs=1281167 # ImageNet\n",
    "#data_dir = \"/training-data/imagenet-tiny/tfrecords\"; nb_train_imgs=100000 # Tiny\n",
    "#data_dir = \"/training-data/imagenet_test/tfrecords\"; nb_train_imgs=4 # contains 4 images\n",
    "\n",
    "batch_size = 64 #\n",
    "#i=1\n",
    "#filenames = [f\"{data_dir}/train-{i:05d}-of-{_NUM_TRAIN_FILES:05d}\"]\n",
    "filenames = None\n",
    "\n",
    "ds = input_fn(\n",
    "    is_training=True,\n",
    "    data_dir=data_dir,\n",
    "    batch_size=batch_size,\n",
    "    dtype=tf.float16,\n",
    "    datasets_num_private_threads=4,\n",
    "    drop_remainder=False,\n",
    "    filenames=filenames,\n",
    ")"
   ]
  },
  {
   "cell_type": "code",
   "execution_count": null,
   "id": "34749ba7",
   "metadata": {
    "tags": []
   },
   "outputs": [],
   "source": [
    "# Display the first few batches of each epoch\n",
    "\n",
    "dataset = ds\n",
    "nb_imgs_per_batch_to_show = 5\n",
    "\n",
    "batch_start_idx = 0\n",
    "nb_batches = 1\n",
    "epochs = range(8)\n",
    "\n",
    "batch_idx_1st_ep = set(range(batch_start_idx, batch_start_idx+nb_batches))\n",
    "batches_per_ep = nb_train_imgs//batch_size\n",
    "batch_idx_to_show = set([b + ep*batches_per_ep for ep in epochs for b in batch_idx_1st_ep])\n",
    "#batch_idx_to_show = set([b + shift + ep*batches_per_ep for ep in epochs for b in batch_idx_1st_ep for shift in [0, batches_per_ep/2]])\n",
    "\n",
    "batch_idx=0\n",
    "for images, label in dataset.as_numpy_iterator():  # example is (image, label)\n",
    "    if len(batch_idx_to_show) == 0:\n",
    "        break\n",
    "    if batch_idx in batch_idx_to_show:\n",
    "        batch_idx_to_show.remove(batch_idx)\n",
    "        print(f\"epoch {batch_idx // batches_per_ep} batch {batch_idx%batches_per_ep}\")\n",
    "\n",
    "        fig, ax = plt.subplots(nrows=1, ncols=nb_imgs_per_batch_to_show, figsize=(2*nb_imgs_per_batch_to_show, 10))\n",
    "        i=0\n",
    "        for col in ax: # iterate over batch elem\n",
    "            image = images[i].astype(np.float32)\n",
    "            #print(label.numpy()[i,0])\n",
    "            image = (image+abs(np.min(image)))/(np.max(image)-np.min(image))\n",
    "            col.imshow(np.squeeze(image))\n",
    "            i+=1\n",
    "        plt.show()\n",
    "\n",
    "    batch_idx+=1"
   ]
  },
  {
   "cell_type": "code",
   "execution_count": 4,
   "id": "3e812f60",
   "metadata": {},
   "outputs": [],
   "source": [
    "#iterate for one epoch\n",
    "ds_iterator = iter(ds)\n",
    "for b in range(nb_train_imgs//batch_size):\n",
    "    batch_ep2, targets2 = next(ds_iterator)"
   ]
  },
  {
   "cell_type": "code",
   "execution_count": 26,
   "id": "08f2f5e7",
   "metadata": {},
   "outputs": [
    {
     "data": {
      "text/plain": [
       "<_ServiceCacheGetDataset shapes: ((312, 64, 64, 3), (312, 1)), types: (tf.float16, tf.float32)>"
      ]
     },
     "execution_count": 26,
     "metadata": {},
     "output_type": "execute_result"
    }
   ],
   "source": [
    "cache_loc = \"/training-data/cache_temp\"\n",
    "cached_dataset = tf.data.experimental.serviceCacheGetDataset(cache_loc, element_spec)\n",
    "cached_dataset"
   ]
  },
  {
   "cell_type": "markdown",
   "id": "5c4591d7",
   "metadata": {},
   "source": [
    "# Caching service"
   ]
  },
  {
   "cell_type": "code",
   "execution_count": 7,
   "id": "40020781",
   "metadata": {},
   "outputs": [
    {
     "name": "stdout",
     "output_type": "stream",
     "text": [
      "Non-cached version\n",
      "tf.Tensor(b'1--3', shape=(), dtype=string)\n",
      "tf.Tensor(b'2----3', shape=(), dtype=string)\n",
      "tf.Tensor(b'3------3', shape=(), dtype=string)\n",
      "tf.Tensor(b'1--3', shape=(), dtype=string)\n",
      "tf.Tensor(b'2----3', shape=(), dtype=string)\n",
      "tf.Tensor(b'3------3', shape=(), dtype=string)\n",
      "tf.Tensor(b'1--3', shape=(), dtype=string)\n",
      "tf.Tensor(b'2----3', shape=(), dtype=string)\n",
      "tf.Tensor(b'3------3', shape=(), dtype=string)\n"
     ]
    }
   ],
   "source": [
    "def data_augm(x):\n",
    "    return x+str(random.randint(1,4))\n",
    "\n",
    "cache_loc = \"/home/tgyal/cache_temp\"\n",
    "raw_dataset = tf.data.Dataset.from_tensor_slices([\"1--\", \"2----\", \"3------\"])\n",
    "raw_dataset = raw_dataset.map(lambda x: data_augm(x))\n",
    "\n",
    "\n",
    "\n",
    "#raw_dataset = raw_dataset.apply(tf.data.experimental.service_cache_put(cache_loc))\n",
    "element_spec = raw_dataset.element_spec\n",
    "\n",
    "raw_dataset = raw_dataset.repeat(3)\n",
    "\n",
    "print(\"Non-cached version\")\n",
    "for x in raw_dataset:\n",
    "    print(x)"
   ]
  },
  {
   "cell_type": "code",
   "execution_count": 5,
   "id": "ce6b2651",
   "metadata": {},
   "outputs": [
    {
     "name": "stdout",
     "output_type": "stream",
     "text": [
      "Cached version\n"
     ]
    }
   ],
   "source": [
    "cached_dataset = tf.data.experimental.serviceCacheGetDataset(cache_loc, element_spec)\n",
    "cached_dataset = cached_dataset.repeat(2)\n",
    "\n",
    "print(\"Cached version\")\n",
    "\n",
    "for x in cached_dataset:\n",
    "  print(x)"
   ]
  },
  {
   "cell_type": "code",
   "execution_count": null,
   "id": "9d9eae36",
   "metadata": {},
   "outputs": [
    {
     "name": "stdout",
     "output_type": "stream",
     "text": [
      "tf.Tensor(b'1--1', shape=(), dtype=string)\n",
      "tf.Tensor(b'2----1', shape=(), dtype=string)\n",
      "tf.Tensor(b'3------1', shape=(), dtype=string)\n",
      "tf.Tensor(b'1--1', shape=(), dtype=string)\n",
      "tf.Tensor(b'2----1', shape=(), dtype=string)\n",
      "tf.Tensor(b'3------1', shape=(), dtype=string)\n",
      "tf.Tensor(b'1--1', shape=(), dtype=string)\n",
      "tf.Tensor(b'2----1', shape=(), dtype=string)\n",
      "tf.Tensor(b'3------1', shape=(), dtype=string)\n",
      "tf.Tensor(b'1--1', shape=(), dtype=string)\n"
     ]
    }
   ],
   "source": [
    "dataset = raw_dataset.concatenate(cached_dataset)\n",
    "dataset = dataset.repeat()\n",
    "for x in dataset.take(10):\n",
    "  print(x)"
   ]
  },
  {
   "cell_type": "markdown",
   "id": "f4a00ec7",
   "metadata": {},
   "source": [
    "## Get Statistics from output log"
   ]
  },
  {
   "cell_type": "code",
   "execution_count": 2,
   "id": "a57707a9",
   "metadata": {},
   "outputs": [
    {
     "data": {
      "text/plain": [
       "['resnet50-Baseline_Service1worker-2021-08-10-20h51m39.txt',\n",
       " 'resnet50-Baseline_Service2workers-2021-08-10-17h54m18.txt',\n",
       " 'resnet50-Baseline_Service4workers-2021-08-10-16h42m10.txt',\n",
       " 'resnet50-Baseline_Service8workers-2021-08-10-14h41m04.txt',\n",
       " 'resnet50-PeriodicCaching1in2_Gluster_cacheOps-2021-08-06-17h09m36.txt',\n",
       " 'resnet50-Test-2021-07-20-13h55m30.txt',\n",
       " 'resnet50-Test-2021-07-20-14h48m18.txt',\n",
       " 'resnet50-Test-2021-07-21-11h46m18.txt',\n",
       " 'resnet50-Test-2021-07-21-11h56m24.txt',\n",
       " 'resnet50-Test-2021-07-21-11h59m04.txt',\n",
       " 'resnet50-Test-2021-07-21-11h59m23.txt',\n",
       " 'resnet50-Test-2021-07-21-13h59m43.txt',\n",
       " 'resnet50-Test-2021-07-21-14h00m24.txt',\n",
       " 'resnet50-Test-2021-07-21-14h08m14.txt',\n",
       " 'resnet50-Test-2021-07-21-14h08m51.txt',\n",
       " 'resnet50-Test-2021-07-21-14h10m27.txt']"
      ]
     },
     "execution_count": 2,
     "metadata": {},
     "output_type": "execute_result"
    }
   ],
   "source": [
    "pattern=\"resnet50*.txt\"\n",
    "log_dir = os.getenv(\"HOME\") + \"/logs/\"\n",
    "log_files = sorted([path.split(\"/\")[-1] for path in glob.glob(log_dir+pattern)])\n",
    "log_files"
   ]
  },
  {
   "cell_type": "code",
   "execution_count": 3,
   "id": "fe876e94",
   "metadata": {},
   "outputs": [
    {
     "name": "stdout",
     "output_type": "stream",
     "text": [
      "--------------------------------------\n",
      "resnet50-Baseline_Service1worker-2021-08-10-20h51m39.txt\n",
      "--------------------------------------\n",
      "median : 1434s  (23.90 minutes)\n",
      "mean : 1434s  (23.91 minutes)\n",
      "max : 1534.35s  (25.57 minutes)\n",
      "min : 1357.41s  (22.62 minutes)\n",
      "std : 46.6s  (0.78 minutes)\n",
      "total epochs : 10\n",
      "\n",
      "\n",
      "--------------------------------------\n",
      "resnet50-Baseline_Service2workers-2021-08-10-17h54m18.txt\n",
      "--------------------------------------\n",
      "median : 755s  (12.58 minutes)\n",
      "mean : 743s  (12.39 minutes)\n",
      "max : 781.99s  (13.03 minutes)\n",
      "min : 682.07s  (11.37 minutes)\n",
      "std : 33.0s  (0.55 minutes)\n",
      "total epochs : 10\n",
      "\n",
      "\n",
      "--------------------------------------\n",
      "resnet50-Baseline_Service4workers-2021-08-10-16h42m10.txt\n",
      "--------------------------------------\n",
      "median : 395s  (6.58 minutes)\n",
      "mean : 399s  (6.65 minutes)\n",
      "max : 430.71s  (7.18 minutes)\n",
      "min : 363.64s  (6.06 minutes)\n",
      "std : 23.9s  (0.40 minutes)\n",
      "total epochs : 8\n",
      "\n",
      "\n",
      "--------------------------------------\n",
      "resnet50-Baseline_Service8workers-2021-08-10-14h41m04.txt\n",
      "--------------------------------------\n",
      "median : 334s  (5.58 minutes)\n",
      "mean : 335s  (5.58 minutes)\n",
      "max : 351.25s  (5.85 minutes)\n",
      "min : 327.82s  (5.46 minutes)\n",
      "std : 6.1s  (0.10 minutes)\n",
      "total epochs : 11\n",
      "\n",
      "\n"
     ]
    }
   ],
   "source": [
    "log_files = ['resnet50-Baseline_Service1worker-2021-08-10-20h51m39.txt',\n",
    "             'resnet50-Baseline_Service2workers-2021-08-10-17h54m18.txt',\n",
    " 'resnet50-Baseline_Service4workers-2021-08-10-16h42m10.txt',\n",
    " 'resnet50-Baseline_Service8workers-2021-08-10-14h41m04.txt']\n",
    "#log_files = ['efficientnetv2-b0-PeriodicCaching1in6-2021-08-07-20h51m42.txt']\n",
    "\n",
    "log_dir = os.getenv(\"HOME\") + \"/logs/\"\n",
    "pattern = \"TimeHistory: (\\d+.\\d+) seconds\"\n",
    "nb_epochs = 90\n",
    "ignore_first = True\n",
    "# Default\n",
    "cache_period = None\n",
    "cache_writing_epochs = None if cache_period is None else np.array(range(nb_epochs))[0::cache_period]\n",
    "cache_reading_epochs = None if cache_writing_epochs is None else np.delete(range(nb_epochs), cache_writing_epochs)\n",
    "processing_epochs = None\n",
    "\n",
    "for log_file in log_files:\n",
    "    print(\"--------------------------------------\")\n",
    "    print(log_file)\n",
    "    print(\"--------------------------------------\")\n",
    "    \n",
    "    epoch_times = []\n",
    "    log_path = log_dir + log_file\n",
    "    for i, line in enumerate(open(log_path)):\n",
    "        time = re.findall(pattern, line)\n",
    "        epoch_times += time\n",
    "    \n",
    "    epoch_times = np.array([float(t) for t in epoch_times])\n",
    "    if ignore_first:\n",
    "        epoch_times = epoch_times[1:]\n",
    "    mean_t = np.mean(epoch_times)\n",
    "    median_t = np.median(epoch_times)\n",
    "    max_t = np.max(epoch_times)\n",
    "    min_t = np.min(epoch_times)\n",
    "    std = epoch_times.std()\n",
    "    \n",
    "    print(f\"median : {median_t:.0f}s  ({median_t/60:.2f} minutes)\")\n",
    "    print(f\"mean : {mean_t:.0f}s  ({mean_t/60:.2f} minutes)\")\n",
    "    print(f\"max : {max_t}s  ({max_t/60:.2f} minutes)\")\n",
    "    print(f\"min : {min_t}s  ({min_t/60:.2f} minutes)\")\n",
    "    print(f\"std : {std:.1f}s  ({std/60:.2f} minutes)\")\n",
    "    print(f\"total epochs : {len(epoch_times)}\")\n",
    "    print(\"\")\n",
    "    \n",
    "    if cache_period is not None:\n",
    "        mean_write = np.mean(epoch_times[cache_writing_epochs])\n",
    "        median_write = np.median(epoch_times[cache_writing_epochs])\n",
    "        std = epoch_times[cache_writing_epochs].std()\n",
    "        print(f\"cache-writing median : {median_write:.0f}s  ({median_write/60:.2f} minutes)\")\n",
    "        print(f\"cache-writing mean : {mean_write:.0f}s  ({mean_write/60:.2f} minutes) - std: {std:.2f}\")\n",
    "\n",
    "        mean_read = np.mean(epoch_times[cache_reading_epochs])\n",
    "        median_read = np.median(epoch_times[cache_reading_epochs])\n",
    "        std = epoch_times[cache_reading_epochs].std()\n",
    "        print(f\"cache-writing median : {median_read:.0f}s  ({median_read/60:.2f} minutes)\")\n",
    "        print(f\"cache-writing mean : {mean_read:.0f}s  ({mean_read/60:.2f} minutes) - std: {std:.2f}\")\n",
    "    \n",
    "    print(\"\")"
   ]
  },
  {
   "cell_type": "markdown",
   "id": "398e41f6",
   "metadata": {},
   "source": [
    "## Get Statistics from Tensorboard Logs"
   ]
  },
  {
   "cell_type": "markdown",
   "id": "9e88a92e",
   "metadata": {},
   "source": [
    "### ResNet-50"
   ]
  },
  {
   "cell_type": "code",
   "execution_count": 2,
   "id": "6c5da0ae",
   "metadata": {},
   "outputs": [
    {
     "data": {
      "text/plain": [
       "['/home/tgyal/train_logs/resnet50/ImageNet/2021-02-08-21h47m02-Profiler',\n",
       " '/home/tgyal/train_logs/resnet50/ImageNet/2021-02-09-12h28m43-Baseline10kShuffleBuffer',\n",
       " '/home/tgyal/train_logs/resnet50/ImageNet/2021-02-09-12h42m41-NoShuffle',\n",
       " '/home/tgyal/train_logs/resnet50/ImageNet/2021-02-10-17h27m40-40%DatasetShuffle',\n",
       " '/home/tgyal/train_logs/resnet50/ImageNet/2021-02-12-11h16m26-NoAugm_NoShuffle',\n",
       " '/home/tgyal/train_logs/resnet50/ImageNet/2021-02-12-12h50m05-NoAugm_35%Shuffle',\n",
       " '/home/tgyal/train_logs/resnet50/ImageNet/2021-03-08-20h16m34-Augment_1in3snap',\n",
       " '/home/tgyal/train_logs/resnet50/ImageNet/2021-03-09-09h16m37-Augment_1in6snap',\n",
       " '/home/tgyal/train_logs/resnet50/ImageNet/2021-03-10-22h53m44-AdaptiveCaching-6-3-1',\n",
       " '/home/tgyal/train_logs/resnet50/ImageNet/2021-03-11-08h06m41-AdaptiveCaching-6-3-1',\n",
       " '/home/tgyal/train_logs/resnet50/ImageNet/2021-03-11-22h38m48-PartialPeriodicCaching-1in3',\n",
       " '/home/tgyal/train_logs/resnet50/ImageNet/2021-06-09-15h56m40-NewBaseline',\n",
       " '/home/tgyal/train_logs/resnet50/ImageNet/2021-06-10-09h56m19-AdaptiveCaching-6-3-1',\n",
       " '/home/tgyal/train_logs/resnet50/ImageNet/2021-06-10-10h11m23-AdaptiveCaching-6-3-1_beforePrefetch',\n",
       " '/home/tgyal/train_logs/resnet50/ImageNet/2021-06-20-21h24m06-Augment_1in3_45ep',\n",
       " '/home/tgyal/train_logs/resnet50/ImageNet/2021-06-20-21h33m19-PartialPeriodicCaching-1in3_45ep',\n",
       " '/home/tgyal/train_logs/resnet50/ImageNet/2021-06-23-16h38m37-Augment_1in3_8cores_45ep',\n",
       " '/home/tgyal/train_logs/resnet50/ImageNet/2021-06-23-22h02m44-Baseline_8cores_24ep',\n",
       " '/home/tgyal/train_logs/resnet50/ImageNet/2021-06-28-13h36m02-Augment_1in3_NoCompress',\n",
       " '/home/tgyal/train_logs/resnet50/ImageNet/2021-07-01-13h10m04-Baseline-GCS-8ep',\n",
       " '/home/tgyal/train_logs/resnet50/ImageNet/2021-07-01-13h45m53-Augment_1in2_16cores_9ep',\n",
       " '/home/tgyal/train_logs/resnet50/ImageNet/2021-07-19-08h16m48-Baseline_take(1).cache().repeat()',\n",
       " '/home/tgyal/train_logs/resnet50/ImageNet/2021-07-19-09h45m59-Baseline_16cores',\n",
       " '/home/tgyal/train_logs/resnet50/ImageNet/2021-07-21-12h53m03-Service-GCS-2workers',\n",
       " '/home/tgyal/train_logs/resnet50/ImageNet/2021-07-21-13h59m43-Test',\n",
       " '/home/tgyal/train_logs/resnet50/ImageNet/2021-07-21-14h00m24-Test',\n",
       " '/home/tgyal/train_logs/resnet50/ImageNet/2021-07-21-14h08m51-Test',\n",
       " '/home/tgyal/train_logs/resnet50/ImageNet/2021-07-21-14h10m27-Test',\n",
       " '/home/tgyal/train_logs/resnet50/ImageNet/2021-07-21-15h14m19-Service-GCS-2workers',\n",
       " '/home/tgyal/train_logs/resnet50/ImageNet/2021-07-21-15h31m22-Service-GCS-2workers',\n",
       " '/home/tgyal/train_logs/resnet50/ImageNet/2021-07-22-08h47m09-Baseline-GCS',\n",
       " '/home/tgyal/train_logs/resnet50/ImageNet/2021-07-22-08h48m27-Baseline-GCS',\n",
       " '/home/tgyal/train_logs/resnet50/ImageNet/2021-07-22-09h10m24-Baseline-GCS',\n",
       " '/home/tgyal/train_logs/resnet50/ImageNet/2021-07-22-15h58m45-Service-SourceCaching-1worker',\n",
       " '/home/tgyal/train_logs/resnet50/ImageNet/2021-07-23-13h23m24-Baseline-GCS',\n",
       " '/home/tgyal/train_logs/resnet50/ImageNet/2021-07-23-13h42m20-Baseline-GCS',\n",
       " '/home/tgyal/train_logs/resnet50/ImageNet/2021-08-03-14h00m48-Baseline_4cpus',\n",
       " '/home/tgyal/train_logs/resnet50/ImageNet/2021-08-03-19h42m32-Baseline_48cpus',\n",
       " '/home/tgyal/train_logs/resnet50/ImageNet/2021-08-05-20h41m23-PeriodicCaching1in2_Gluster',\n",
       " '/home/tgyal/train_logs/resnet50/ImageNet/2021-08-06-17h09m36-PeriodicCaching1in2_Gluster_cacheOps',\n",
       " '/home/tgyal/train_logs/resnet50/ImageNet/2021-08-08-20h33m48-PeriodicCaching1in2_Gluster4workers_cacheOps']"
      ]
     },
     "execution_count": 2,
     "metadata": {},
     "output_type": "execute_result"
    }
   ],
   "source": [
    "from tensorboard.backend.event_processing.event_accumulator import EventAccumulator\n",
    "from tensorboard.backend.event_processing import tag_types\n",
    "\n",
    "dpath = \"/home/tgyal/train_logs/resnet50/ImageNet\"\n",
    "sorted([f\"{dpath}/{dname}\" for dname in os.listdir(dpath)])"
   ]
  },
  {
   "cell_type": "code",
   "execution_count": 3,
   "id": "33a673c1",
   "metadata": {},
   "outputs": [
    {
     "data": {
      "text/plain": [
       "(array([ 1,  3,  5,  7,  9, 11, 13, 15, 17, 19, 21, 23, 25, 27, 29, 31, 33,\n",
       "        35, 37, 39, 41, 43, 45, 47, 49, 51, 53, 55, 57, 59, 61, 63, 65, 67,\n",
       "        69, 71, 73, 75, 77, 79, 81, 83, 85, 87]),\n",
       " array([ 0,  2,  4,  6,  8, 10, 12, 14, 16, 18, 20, 22, 24, 26, 28, 30, 32,\n",
       "        34, 36, 38, 40, 42, 44, 46, 48, 50, 52, 54, 56, 58, 60, 62, 64, 66,\n",
       "        68, 70, 72, 74, 76, 78, 80, 82, 84, 86, 88]))"
      ]
     },
     "execution_count": 3,
     "metadata": {},
     "output_type": "execute_result"
    }
   ],
   "source": [
    "nb_epochs = 90\n",
    "log_paths = ['/home/tgyal/train_logs/resnet50/ImageNet/2021-08-05-20h41m23-PeriodicCaching1in2_Gluster',\n",
    " '/home/tgyal/train_logs/resnet50/ImageNet/2021-08-06-17h09m36-PeriodicCaching1in2_Gluster_cacheOps',\n",
    " '/home/tgyal/train_logs/resnet50/ImageNet/2021-08-08-20h33m48-PeriodicCaching1in2_Gluster4workers_cacheOps']\n",
    "\n",
    "# Default\n",
    "cache_period = 2\n",
    "cache_writing_epochs = None if cache_period is None else np.array(range(nb_epochs-1))[cache_period-1::cache_period]\n",
    "cache_reading_epochs = None if cache_writing_epochs is None else np.delete(range(nb_epochs-1), cache_writing_epochs)\n",
    "processing_epochs = None\n",
    "\n",
    "# Custom (e.g. for adaptive)\n",
    "#cache_writing_epochs = np.append(np.array(range(30-1))[6-1::6], np.array(range(30-1,60-1))[::3])\n",
    "#cache_reading_epochs = np.delete(range(60-1), cache_writing_epochs)\n",
    "#processing_epochs = np.array(range(60-1, nb_epochs-1))\n",
    "\n",
    "event_paths = [[f\"{log_path}/{subdir}\"  for subdir in ['', 'eval']] for log_path in log_paths]\n",
    "\n",
    "SIZE_GUIDANCE = {\n",
    "    tag_types.COMPRESSED_HISTOGRAMS: 500,\n",
    "    tag_types.IMAGES: 4,\n",
    "    tag_types.AUDIO: 4,\n",
    "    tag_types.SCALARS: 10000,\n",
    "    tag_types.HISTOGRAMS: 1,\n",
    "    tag_types.TENSORS: 1000,\n",
    "}\n",
    "all_accumulators = [[EventAccumulator(path, size_guidance=SIZE_GUIDANCE).Reload() for path in event_train_test_paths] \n",
    "                for event_train_test_paths in event_paths]\n",
    "cache_writing_epochs, cache_reading_epochs"
   ]
  },
  {
   "cell_type": "code",
   "execution_count": 4,
   "id": "feb5a894",
   "metadata": {},
   "outputs": [
    {
     "name": "stdout",
     "output_type": "stream",
     "text": [
      "2021-08-05-20h41m23-PeriodicCaching1in2_Gluster\n",
      "--------------------\n",
      "  Max test acc :                 46.19% (epoch 20)\n",
      "  Time per epoch :               6.52 minutes (391 s)  -  std: 0.90 (53.8 s)\n",
      "  Time per cache-writing epoch : 7.46 minutes (448 s)  -  std: 0.07 (4.0 s)\n",
      "  Time per cache-reading epoch : 5.67 minutes (340 s)  -  std: 0.07 (4.3 s)\n",
      "  all epoch times : [352.2261219  452.77788806 343.30088091 447.46351004 340.92332911\n",
      " 448.23355794 338.64306998 442.30515003 337.69429302 445.12879801\n",
      " 337.82912993 453.61260605 337.18307805 451.09899187 339.26591992\n",
      " 441.97964501 337.33456206 447.72075605 338.83392096]\n",
      "\n",
      "\n",
      "2021-08-06-17h09m36-PeriodicCaching1in2_Gluster_cacheOps\n",
      "--------------------\n",
      "  Max test acc :                 44.72% (epoch 16)\n",
      "  Time per epoch :               6.37 minutes (382 s)  -  std: 0.70 (42.1 s)\n",
      "  Time per cache-writing epoch : 7.11 minutes (427 s)  -  std: 0.03 (1.7 s)\n",
      "  Time per cache-reading epoch : 5.71 minutes (342 s)  -  std: 0.01 (0.5 s)\n",
      "  all epoch times : [343.4196651  426.18123889 342.69074512 427.83075404 343.35266089\n",
      " 425.17783403 342.30163097 425.37653613 341.71013188 425.09497404\n",
      " 341.8740449  424.89875197 342.47647405 428.72955108 342.42687893\n",
      " 427.72421002 342.16051197 429.54205012 342.19658589]\n",
      "\n",
      "\n",
      "2021-08-08-20h33m48-PeriodicCaching1in2_Gluster4workers_cacheOps\n",
      "--------------------\n",
      "  Max test acc :                 44.83% (epoch 16)\n",
      "  Time per epoch :               6.14 minutes (368 s)  -  std: 0.54 (32.4 s)\n",
      "  Time per cache-writing epoch : 6.70 minutes (402 s)  -  std: 0.02 (1.3 s)\n",
      "  Time per cache-reading epoch : 5.62 minutes (337 s)  -  std: 0.03 (1.7 s)\n",
      "  all epoch times : [342.27680516 401.86148095 337.94719887 400.3114152  337.61910796\n",
      " 400.897686   337.54299688 401.65674615 336.25091195 403.53156185\n",
      " 336.58167219 401.37253189 336.44848299 404.16512704 336.98502088\n",
      " 403.93223405 336.670748   402.79386711 336.52235889]\n",
      "\n",
      "\n"
     ]
    }
   ],
   "source": [
    "pad = 31\n",
    "\n",
    "for i, accumulators in enumerate(all_accumulators):\n",
    "    exp_name = log_paths[i]\n",
    "    print(exp_name.split('/')[-1])\n",
    "    print(\"--------------------\")\n",
    "    train_accumulator = accumulators[0]\n",
    "    test_accumulator = accumulators[1]\n",
    "    #print(\"Tags : \", test_accumulator.Tags()['tensors'], train_accumulator.Tags()['tensors'])\n",
    "    #print(\"--------------------\")\n",
    "    \n",
    "    epoch_max = 90\n",
    "    test_acc = np.array([tf.make_ndarray(e.tensor_proto).item() for e in test_accumulator.Tensors('test_accuracy')])\n",
    "    max_test_acc = np.max(test_acc[:epoch_max])\n",
    "    max_test_acc_ep_id = np.argmax(test_acc[:epoch_max])\n",
    "    print(f\"  {'Max test acc :': <31}{100*max_test_acc:.2f}% (epoch {max_test_acc_ep_id+1})\")\n",
    "\n",
    "    wall_times = np.array([e.wall_time for e in test_accumulator.Tensors('test_accuracy')])\n",
    "    rel_times = wall_times - wall_times[0]\n",
    "    epoch_times = wall_times[1:]-wall_times[:-1]\n",
    "    time_per_ep = epoch_times.mean()\n",
    "    std = epoch_times.std()\n",
    "    print(f\"  {'Time per epoch :': <31}{time_per_ep/60:.2f} minutes ({time_per_ep:.0f} s)  -  std: {std/60:.2f} ({std:.1f} s)\")\n",
    "    \n",
    "    if cache_writing_epochs is not None:\n",
    "        cache_writing_epochs = cache_writing_epochs[cache_writing_epochs < len(epoch_times)]\n",
    "        cache_reading_epochs = cache_reading_epochs[cache_reading_epochs < len(epoch_times)]\n",
    "        processing_epochs = None if processing_epochs is None else processing_epochs[processing_epochs < len(epoch_times)]\n",
    "        \n",
    "        cache_writing_ep_times = epoch_times[cache_writing_epochs]\n",
    "        time_per_cache_writing_ep = cache_writing_ep_times.mean()\n",
    "        std = cache_writing_ep_times.std()\n",
    "        print(f\"  {'Time per cache-writing epoch :': <31}{time_per_cache_writing_ep/60:.2f} minutes ({time_per_cache_writing_ep:.0f} s)  -  std: {std/60:.2f} ({std:.1f} s)\")\n",
    "        \n",
    "        cache_reading_ep_times = epoch_times[cache_reading_epochs]\n",
    "        time_per_cache_reading_ep = cache_reading_ep_times.mean()\n",
    "        std = cache_reading_ep_times.std()\n",
    "        print(f\"  {'Time per cache-reading epoch :': <31}{time_per_cache_reading_ep/60:.2f} minutes ({time_per_cache_reading_ep:.0f} s)  -  std: {std/60:.2f} ({std:.1f} s)\")\n",
    "        \n",
    "        processing_ep_times=None\n",
    "        if processing_epochs is not None:\n",
    "            processing_ep_times = epoch_times[processing_epochs]\n",
    "            time_per_processing_ep = processing_ep_times.mean()\n",
    "            std = processing_ep_times.std()\n",
    "            print(f\"  {'Time per processing epoch :': <31}{time_per_processing_ep/60:.2f} minutes ({time_per_processing_ep:.0f} s)  -  std: {std/60:.2f} ({std:.1f} s)\")\n",
    "    print(f\"  all epoch times : {epoch_times}\")\n",
    "    print(\"\\n\")"
   ]
  },
  {
   "cell_type": "markdown",
   "id": "16f60413",
   "metadata": {},
   "source": [
    "### ResNet-32"
   ]
  },
  {
   "cell_type": "code",
   "execution_count": 21,
   "id": "66cfce9c",
   "metadata": {},
   "outputs": [
    {
     "data": {
      "text/plain": [
       "['/home/tgyal/train_logs/resnet32/cifar10-FullShuffle/combined/mean/cifar10-FullShuffle']"
      ]
     },
     "execution_count": 21,
     "metadata": {},
     "output_type": "execute_result"
    }
   ],
   "source": [
    "from tensorboard.backend.event_processing.event_accumulator import EventAccumulator\n",
    "\n",
    "dpath = \"/home/tgyal/train_logs/resnet32/cifar10-FullShuffle/combined/mean\"\n",
    "sorted([f\"{dpath}/{dname}\" for dname in os.listdir(dpath)])"
   ]
  },
  {
   "cell_type": "code",
   "execution_count": 22,
   "id": "636c0f6f",
   "metadata": {},
   "outputs": [],
   "source": [
    "log_paths = ['/home/tgyal/train_logs/resnet32/cifar10-FullShuffle/combined/mean/cifar10-FullShuffle',\n",
    "             '/home/tgyal/train_logs/resnet32/cifar10-NoShuffle/combined/mean/cifar10-NoShuffle']\n",
    "#dpath = Path(\"/home/tgyal/resnet32/cifar10-NoShuffle\")\n",
    "\n",
    "#event_paths = [[f\"{log_path}/{subdir}\"  for subdir in ['', 'eval']] for log_path in log_paths]"
   ]
  },
  {
   "cell_type": "code",
   "execution_count": 23,
   "id": "1e1de849",
   "metadata": {},
   "outputs": [
    {
     "data": {
      "text/plain": [
       "[<tensorboard.backend.event_processing.event_accumulator.EventAccumulator at 0x7faf79820860>,\n",
       " <tensorboard.backend.event_processing.event_accumulator.EventAccumulator at 0x7faf79820898>]"
      ]
     },
     "execution_count": 23,
     "metadata": {},
     "output_type": "execute_result"
    }
   ],
   "source": [
    "from tensorboard.backend.event_processing import tag_types\n",
    "\n",
    "SIZE_GUIDANCE = {\n",
    "    tag_types.COMPRESSED_HISTOGRAMS: 500,\n",
    "    tag_types.IMAGES: 4,\n",
    "    tag_types.AUDIO: 4,\n",
    "    tag_types.SCALARS: 10000,\n",
    "    tag_types.HISTOGRAMS: 1,\n",
    "    tag_types.TENSORS: 10000,\n",
    "}\n",
    "all_accumulators = [EventAccumulator(path, size_guidance=SIZE_GUIDANCE).Reload() for path in log_paths]\n",
    "all_accumulators"
   ]
  },
  {
   "cell_type": "code",
   "execution_count": 26,
   "id": "e4456294",
   "metadata": {},
   "outputs": [
    {
     "name": "stdout",
     "output_type": "stream",
     "text": [
      "/home/tgyal/train_logs/resnet32/cifar10-FullShuffle/combined/mean/cifar10-FullShuffle\n",
      "--------------------\n",
      "Tags :  ['train/accuracy', 'train/classification_loss', 'train/regularization_loss', 'train/learnig_rate', 'test/classification_loss', 'test/accuracy']\n",
      "--------------------\n",
      "  Max test acc :               92.75% (step 59)\n",
      "  Time per epoch :             2.59 minutes\n",
      "\n",
      "\n",
      "/home/tgyal/train_logs/resnet32/cifar10-NoShuffle/combined/mean/cifar10-NoShuffle\n",
      "--------------------\n",
      "Tags :  ['train/accuracy', 'train/classification_loss', 'train/regularization_loss', 'train/learnig_rate', 'test/classification_loss', 'test/accuracy']\n",
      "--------------------\n",
      "  Max test acc :               92.52% (step 52)\n",
      "  Time per epoch :             0.00 minutes\n",
      "\n",
      "\n"
     ]
    }
   ],
   "source": [
    "for i, accumulator in enumerate(all_accumulators):\n",
    "    print(log_paths[i])\n",
    "    print(\"--------------------\")\n",
    "    print(\"Tags : \", accumulator.Tags()['tensors'])\n",
    "    print(\"--------------------\")\n",
    "    \n",
    "    epoch_max = 90\n",
    "    test_acc = np.array([tf.make_ndarray(e.tensor_proto).item() for e in accumulator.Tensors('test/accuracy')])\n",
    "    max_test_acc = np.max(test_acc[:epoch_max])\n",
    "    max_test_acc_ep_id = np.argmax(test_acc[:epoch_max])\n",
    "    print(f\"  Max test acc :               {100*max_test_acc:.2f}% (step {max_test_acc_ep_id+1})\")\n",
    "\n",
    "    wall_times = np.array([e.wall_time for e in accumulator.Tensors('test/accuracy')])\n",
    "    rel_times = wall_times - wall_times[0]\n",
    "    epoch_times = wall_times[1:]-wall_times[:-1]\n",
    "    time_per_ep = epoch_times.mean()\n",
    "    print(f\"  Time per epoch :             {time_per_ep:.2f} minutes\")\n",
    "\n",
    "    print(\"\\n\")"
   ]
  },
  {
   "cell_type": "markdown",
   "id": "d00873f8",
   "metadata": {},
   "source": [
    "## Learning rate visualizer"
   ]
  },
  {
   "cell_type": "code",
   "execution_count": 15,
   "id": "5a9602b6",
   "metadata": {},
   "outputs": [
    {
     "data": {
      "image/png": "[encoded data removed]",
      "text/plain": [
       "<Figure size 432x288 with 1 Axes>"
      ]
     },
     "metadata": {
      "needs_background": "light"
     },
     "output_type": "display_data"
    }
   ],
   "source": [
    "initial_learning_rate = 0.1\n",
    "end_learning_rate = 0.01\n",
    "decay_steps = 10000\n",
    "power=2\n",
    "\n",
    "def decayed_learning_rate(step, decay_steps=decay_steps):\n",
    "    decay_steps = decay_steps * math.ceil(step / decay_steps)\n",
    "    return ((initial_learning_rate - end_learning_rate) *\n",
    "          math.pow(1 - step / decay_steps, power)\n",
    "         ) + end_learning_rate\n",
    "\n",
    "steps = list(range(1, decay_steps+1))\n",
    "lr = [decayed_learning_rate(step) for step in steps]\n",
    "\n",
    "plt.plot(steps, lr)\n",
    "plt.show()"
   ]
  }
 ],
 "metadata": {
  "kernelspec": {
   "display_name": "Python 3",
   "language": "python",
   "name": "python3"
  },
  "language_info": {
   "codemirror_mode": {
    "name": "ipython",
    "version": 3
   },
   "file_extension": ".py",
   "mimetype": "text/x-python",
   "name": "python",
   "nbconvert_exporter": "python",
   "pygments_lexer": "ipython3",
   "version": "3.6.9"
  }
 },
 "nbformat": 4,
 "nbformat_minor": 5
}
